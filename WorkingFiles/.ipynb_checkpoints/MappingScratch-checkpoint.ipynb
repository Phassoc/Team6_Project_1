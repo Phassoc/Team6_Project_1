{
 "cells": [
  {
   "cell_type": "code",
   "execution_count": null,
   "metadata": {},
   "outputs": [],
   "source": [
    "fig = gmaps.figure()\n",
    "drawing = gmaps.drawing_layer(features=[\n",
    "     gmaps.Polygon(\n",
    "        [(46.72, 6.06), (46.48, 6.49), (46.79, 6.91)],\n",
    "        stroke_color='red', fill_color=(255, 0, 132)\n",
    "    )\n",
    "])\n",
    "fig.add_layer(drawing)\n",
    "\n",
    "fig = gmaps.figure()\n",
    "drawing = gmaps.drawing_layer()\n",
    "fig.add_layer(drawing)\n",
    "fig # display the figure\n",
    "\n",
    "drawing.features = [\n",
    "     gmaps.Circle(\n",
    "         [46.72, 6.06], radius=20000,\n",
    "         stroke_color='red', fill_color=(255, 0, 132)\n",
    "     ),\n",
    "    gmaps.Circle(\n",
    "         [46.72, 6.06], radius=30000,\n",
    "         stroke_color='green', fill_color=(255, 0, 132)\n",
    "     )\n",
    "]\n",
    "fig\n",
    "\n"
   ]
  }
 ],
 "metadata": {
  "kernelspec": {
   "display_name": "Python 3",
   "language": "python",
   "name": "python3"
  },
  "language_info": {
   "codemirror_mode": {
    "name": "ipython",
    "version": 3
   },
   "file_extension": ".py",
   "mimetype": "text/x-python",
   "name": "python",
   "nbconvert_exporter": "python",
   "pygments_lexer": "ipython3",
   "version": "3.6.10"
  }
 },
 "nbformat": 4,
 "nbformat_minor": 4
}
