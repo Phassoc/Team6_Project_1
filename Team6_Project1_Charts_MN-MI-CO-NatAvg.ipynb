{
 "cells": [
  {
   "cell_type": "markdown",
   "metadata": {},
   "source": [
    "## Dependancies and Setup"
   ]
  },
  {
   "cell_type": "code",
   "execution_count": 1,
   "metadata": {},
   "outputs": [],
   "source": [
    "## ------------------------------------------------------\n",
    "## HEADER COMMENTS\n",
    "## TEAM PROJECT 1\n",
    "## DATE APRIL 25, 2020\n",
    "## MODULE AUTHOR Rob Gauer\n",
    "## FILE NAME 'Team6_Project1_Charts_MN-MI-CO-NatAvg.ipynb'\n",
    "## ------------------------------------------------------\n",
    "\n",
    "# Dependencies and Setup\n",
    "import matplotlib.pyplot as plt\n",
    "import pandas as pd\n",
    "import numpy as np\n",
    "import requests\n",
    "import gmaps\n",
    "import os\n",
    "import json\n",
    "import sys\n",
    "from census import Census\n",
    "#import datetime\n",
    "\n",
    "# API keys file load location\n",
    "sys.path.insert(0, \"/Users/rober/Desktop/ClassHomework/keys\")\n",
    "\n",
    "# Census API Key\n",
    "from project1_config import (api_key, gkey)\n",
    "c = Census(api_key, year=2018)\n",
    "\n",
    "# gmaps API Key \n",
    "gmaps.configure(api_key=gkey)\n",
    "\n",
    "# define current date string to append to the names of output files...\n",
    "import datetime  \n",
    "def _getToday(): return datetime.date.today().strftime(\"%Y%m%d\")   "
   ]
  },
  {
   "cell_type": "markdown",
   "metadata": {},
   "source": [
    "## Read Data Files & Create DataFrames"
   ]
  },
  {
   "cell_type": "code",
   "execution_count": 4,
   "metadata": {},
   "outputs": [
    {
     "ename": "FileNotFoundError",
     "evalue": "[Errno 2] File Output_Data/Census_County_Population_20200423.csv does not exist: 'Output_Data/Census_County_Population_20200423.csv'",
     "output_type": "error",
     "traceback": [
      "\u001b[1;31m---------------------------------------------------------------------------\u001b[0m",
      "\u001b[1;31mFileNotFoundError\u001b[0m                         Traceback (most recent call last)",
      "\u001b[1;32m<ipython-input-4-a4aa972ccb69>\u001b[0m in \u001b[0;36m<module>\u001b[1;34m\u001b[0m\n\u001b[0;32m      4\u001b[0m \u001b[1;31m#Census_County_Population=\"../Output_Data/Census_County_Population.csv\"\u001b[0m\u001b[1;33m\u001b[0m\u001b[1;33m\u001b[0m\u001b[1;33m\u001b[0m\u001b[0m\n\u001b[0;32m      5\u001b[0m \u001b[0mCensus_County_Population\u001b[0m \u001b[1;33m=\u001b[0m \u001b[1;34m\"%s_%s.%s\"\u001b[0m \u001b[1;33m%\u001b[0m \u001b[1;33m(\u001b[0m\u001b[1;34m\"Output_Data/Census_County_Population\"\u001b[0m\u001b[1;33m,\u001b[0m \u001b[0m_getToday\u001b[0m\u001b[1;33m(\u001b[0m\u001b[1;33m)\u001b[0m\u001b[1;33m,\u001b[0m\u001b[1;34m\"csv\"\u001b[0m\u001b[1;33m)\u001b[0m\u001b[1;33m\u001b[0m\u001b[1;33m\u001b[0m\u001b[0m\n\u001b[1;32m----> 6\u001b[1;33m \u001b[0mCensus_County_Population_df\u001b[0m\u001b[1;33m=\u001b[0m\u001b[0mpd\u001b[0m\u001b[1;33m.\u001b[0m\u001b[0mread_csv\u001b[0m\u001b[1;33m(\u001b[0m\u001b[0mCensus_County_Population\u001b[0m\u001b[1;33m)\u001b[0m\u001b[1;33m\u001b[0m\u001b[1;33m\u001b[0m\u001b[0m\n\u001b[0m\u001b[0;32m      7\u001b[0m \u001b[1;31m#\u001b[0m\u001b[1;33m\u001b[0m\u001b[1;33m\u001b[0m\u001b[1;33m\u001b[0m\u001b[0m\n\u001b[0;32m      8\u001b[0m \u001b[1;31m#Census_County_Population=\"Output_Data/Census_County_Population_20200422.csv\"\u001b[0m\u001b[1;33m\u001b[0m\u001b[1;33m\u001b[0m\u001b[1;33m\u001b[0m\u001b[0m\n",
      "\u001b[1;32m~\\anaconda\\anaconda3\\envs\\PythonData\\lib\\site-packages\\pandas\\io\\parsers.py\u001b[0m in \u001b[0;36mparser_f\u001b[1;34m(filepath_or_buffer, sep, delimiter, header, names, index_col, usecols, squeeze, prefix, mangle_dupe_cols, dtype, engine, converters, true_values, false_values, skipinitialspace, skiprows, skipfooter, nrows, na_values, keep_default_na, na_filter, verbose, skip_blank_lines, parse_dates, infer_datetime_format, keep_date_col, date_parser, dayfirst, cache_dates, iterator, chunksize, compression, thousands, decimal, lineterminator, quotechar, quoting, doublequote, escapechar, comment, encoding, dialect, error_bad_lines, warn_bad_lines, delim_whitespace, low_memory, memory_map, float_precision)\u001b[0m\n\u001b[0;32m    674\u001b[0m         )\n\u001b[0;32m    675\u001b[0m \u001b[1;33m\u001b[0m\u001b[0m\n\u001b[1;32m--> 676\u001b[1;33m         \u001b[1;32mreturn\u001b[0m \u001b[0m_read\u001b[0m\u001b[1;33m(\u001b[0m\u001b[0mfilepath_or_buffer\u001b[0m\u001b[1;33m,\u001b[0m \u001b[0mkwds\u001b[0m\u001b[1;33m)\u001b[0m\u001b[1;33m\u001b[0m\u001b[1;33m\u001b[0m\u001b[0m\n\u001b[0m\u001b[0;32m    677\u001b[0m \u001b[1;33m\u001b[0m\u001b[0m\n\u001b[0;32m    678\u001b[0m     \u001b[0mparser_f\u001b[0m\u001b[1;33m.\u001b[0m\u001b[0m__name__\u001b[0m \u001b[1;33m=\u001b[0m \u001b[0mname\u001b[0m\u001b[1;33m\u001b[0m\u001b[1;33m\u001b[0m\u001b[0m\n",
      "\u001b[1;32m~\\anaconda\\anaconda3\\envs\\PythonData\\lib\\site-packages\\pandas\\io\\parsers.py\u001b[0m in \u001b[0;36m_read\u001b[1;34m(filepath_or_buffer, kwds)\u001b[0m\n\u001b[0;32m    446\u001b[0m \u001b[1;33m\u001b[0m\u001b[0m\n\u001b[0;32m    447\u001b[0m     \u001b[1;31m# Create the parser.\u001b[0m\u001b[1;33m\u001b[0m\u001b[1;33m\u001b[0m\u001b[1;33m\u001b[0m\u001b[0m\n\u001b[1;32m--> 448\u001b[1;33m     \u001b[0mparser\u001b[0m \u001b[1;33m=\u001b[0m \u001b[0mTextFileReader\u001b[0m\u001b[1;33m(\u001b[0m\u001b[0mfp_or_buf\u001b[0m\u001b[1;33m,\u001b[0m \u001b[1;33m**\u001b[0m\u001b[0mkwds\u001b[0m\u001b[1;33m)\u001b[0m\u001b[1;33m\u001b[0m\u001b[1;33m\u001b[0m\u001b[0m\n\u001b[0m\u001b[0;32m    449\u001b[0m \u001b[1;33m\u001b[0m\u001b[0m\n\u001b[0;32m    450\u001b[0m     \u001b[1;32mif\u001b[0m \u001b[0mchunksize\u001b[0m \u001b[1;32mor\u001b[0m \u001b[0miterator\u001b[0m\u001b[1;33m:\u001b[0m\u001b[1;33m\u001b[0m\u001b[1;33m\u001b[0m\u001b[0m\n",
      "\u001b[1;32m~\\anaconda\\anaconda3\\envs\\PythonData\\lib\\site-packages\\pandas\\io\\parsers.py\u001b[0m in \u001b[0;36m__init__\u001b[1;34m(self, f, engine, **kwds)\u001b[0m\n\u001b[0;32m    878\u001b[0m             \u001b[0mself\u001b[0m\u001b[1;33m.\u001b[0m\u001b[0moptions\u001b[0m\u001b[1;33m[\u001b[0m\u001b[1;34m\"has_index_names\"\u001b[0m\u001b[1;33m]\u001b[0m \u001b[1;33m=\u001b[0m \u001b[0mkwds\u001b[0m\u001b[1;33m[\u001b[0m\u001b[1;34m\"has_index_names\"\u001b[0m\u001b[1;33m]\u001b[0m\u001b[1;33m\u001b[0m\u001b[1;33m\u001b[0m\u001b[0m\n\u001b[0;32m    879\u001b[0m \u001b[1;33m\u001b[0m\u001b[0m\n\u001b[1;32m--> 880\u001b[1;33m         \u001b[0mself\u001b[0m\u001b[1;33m.\u001b[0m\u001b[0m_make_engine\u001b[0m\u001b[1;33m(\u001b[0m\u001b[0mself\u001b[0m\u001b[1;33m.\u001b[0m\u001b[0mengine\u001b[0m\u001b[1;33m)\u001b[0m\u001b[1;33m\u001b[0m\u001b[1;33m\u001b[0m\u001b[0m\n\u001b[0m\u001b[0;32m    881\u001b[0m \u001b[1;33m\u001b[0m\u001b[0m\n\u001b[0;32m    882\u001b[0m     \u001b[1;32mdef\u001b[0m \u001b[0mclose\u001b[0m\u001b[1;33m(\u001b[0m\u001b[0mself\u001b[0m\u001b[1;33m)\u001b[0m\u001b[1;33m:\u001b[0m\u001b[1;33m\u001b[0m\u001b[1;33m\u001b[0m\u001b[0m\n",
      "\u001b[1;32m~\\anaconda\\anaconda3\\envs\\PythonData\\lib\\site-packages\\pandas\\io\\parsers.py\u001b[0m in \u001b[0;36m_make_engine\u001b[1;34m(self, engine)\u001b[0m\n\u001b[0;32m   1112\u001b[0m     \u001b[1;32mdef\u001b[0m \u001b[0m_make_engine\u001b[0m\u001b[1;33m(\u001b[0m\u001b[0mself\u001b[0m\u001b[1;33m,\u001b[0m \u001b[0mengine\u001b[0m\u001b[1;33m=\u001b[0m\u001b[1;34m\"c\"\u001b[0m\u001b[1;33m)\u001b[0m\u001b[1;33m:\u001b[0m\u001b[1;33m\u001b[0m\u001b[1;33m\u001b[0m\u001b[0m\n\u001b[0;32m   1113\u001b[0m         \u001b[1;32mif\u001b[0m \u001b[0mengine\u001b[0m \u001b[1;33m==\u001b[0m \u001b[1;34m\"c\"\u001b[0m\u001b[1;33m:\u001b[0m\u001b[1;33m\u001b[0m\u001b[1;33m\u001b[0m\u001b[0m\n\u001b[1;32m-> 1114\u001b[1;33m             \u001b[0mself\u001b[0m\u001b[1;33m.\u001b[0m\u001b[0m_engine\u001b[0m \u001b[1;33m=\u001b[0m \u001b[0mCParserWrapper\u001b[0m\u001b[1;33m(\u001b[0m\u001b[0mself\u001b[0m\u001b[1;33m.\u001b[0m\u001b[0mf\u001b[0m\u001b[1;33m,\u001b[0m \u001b[1;33m**\u001b[0m\u001b[0mself\u001b[0m\u001b[1;33m.\u001b[0m\u001b[0moptions\u001b[0m\u001b[1;33m)\u001b[0m\u001b[1;33m\u001b[0m\u001b[1;33m\u001b[0m\u001b[0m\n\u001b[0m\u001b[0;32m   1115\u001b[0m         \u001b[1;32melse\u001b[0m\u001b[1;33m:\u001b[0m\u001b[1;33m\u001b[0m\u001b[1;33m\u001b[0m\u001b[0m\n\u001b[0;32m   1116\u001b[0m             \u001b[1;32mif\u001b[0m \u001b[0mengine\u001b[0m \u001b[1;33m==\u001b[0m \u001b[1;34m\"python\"\u001b[0m\u001b[1;33m:\u001b[0m\u001b[1;33m\u001b[0m\u001b[1;33m\u001b[0m\u001b[0m\n",
      "\u001b[1;32m~\\anaconda\\anaconda3\\envs\\PythonData\\lib\\site-packages\\pandas\\io\\parsers.py\u001b[0m in \u001b[0;36m__init__\u001b[1;34m(self, src, **kwds)\u001b[0m\n\u001b[0;32m   1889\u001b[0m         \u001b[0mkwds\u001b[0m\u001b[1;33m[\u001b[0m\u001b[1;34m\"usecols\"\u001b[0m\u001b[1;33m]\u001b[0m \u001b[1;33m=\u001b[0m \u001b[0mself\u001b[0m\u001b[1;33m.\u001b[0m\u001b[0musecols\u001b[0m\u001b[1;33m\u001b[0m\u001b[1;33m\u001b[0m\u001b[0m\n\u001b[0;32m   1890\u001b[0m \u001b[1;33m\u001b[0m\u001b[0m\n\u001b[1;32m-> 1891\u001b[1;33m         \u001b[0mself\u001b[0m\u001b[1;33m.\u001b[0m\u001b[0m_reader\u001b[0m \u001b[1;33m=\u001b[0m \u001b[0mparsers\u001b[0m\u001b[1;33m.\u001b[0m\u001b[0mTextReader\u001b[0m\u001b[1;33m(\u001b[0m\u001b[0msrc\u001b[0m\u001b[1;33m,\u001b[0m \u001b[1;33m**\u001b[0m\u001b[0mkwds\u001b[0m\u001b[1;33m)\u001b[0m\u001b[1;33m\u001b[0m\u001b[1;33m\u001b[0m\u001b[0m\n\u001b[0m\u001b[0;32m   1892\u001b[0m         \u001b[0mself\u001b[0m\u001b[1;33m.\u001b[0m\u001b[0munnamed_cols\u001b[0m \u001b[1;33m=\u001b[0m \u001b[0mself\u001b[0m\u001b[1;33m.\u001b[0m\u001b[0m_reader\u001b[0m\u001b[1;33m.\u001b[0m\u001b[0munnamed_cols\u001b[0m\u001b[1;33m\u001b[0m\u001b[1;33m\u001b[0m\u001b[0m\n\u001b[0;32m   1893\u001b[0m \u001b[1;33m\u001b[0m\u001b[0m\n",
      "\u001b[1;32mpandas\\_libs\\parsers.pyx\u001b[0m in \u001b[0;36mpandas._libs.parsers.TextReader.__cinit__\u001b[1;34m()\u001b[0m\n",
      "\u001b[1;32mpandas\\_libs\\parsers.pyx\u001b[0m in \u001b[0;36mpandas._libs.parsers.TextReader._setup_parser_source\u001b[1;34m()\u001b[0m\n",
      "\u001b[1;31mFileNotFoundError\u001b[0m: [Errno 2] File Output_Data/Census_County_Population_20200423.csv does not exist: 'Output_Data/Census_County_Population_20200423.csv'"
     ]
    }
   ],
   "source": [
    "# Importing csv files for charting...\n",
    "# Create dataframes...\n",
    "#---------------\n",
    "#Census_County_Population=\"../Output_Data/Census_County_Population.csv\"\n",
    "Census_County_Population = \"%s_%s.%s\" % (\"Output_Data/Census_County_Population\", _getToday(),\"csv\")\n",
    "Census_County_Population_df=pd.read_csv(Census_County_Population)\n",
    "#\n",
    "#Census_County_Population=\"Output_Data/Census_County_Population_20200422.csv\"\n",
    "#Census_County_Population_df=pd.read_csv(Census_County_Population)\n",
    "#---------------\n",
    "#Census_State_Population='../Output_Data/Census_State_Population.csv'\n",
    "#Census_State_Population = \"%s_%s.%s\" % (\"Output_Data/Census_State_Population\", _getToday() ,\"csv\")\n",
    "#Census_State_Population_df=pd.read_csv(Census_State_Population)\n",
    "#\n",
    "Census_State_Population='Output_Data/Census_State_Population_20200422.csv'\n",
    "Census_State_Population_df=pd.read_csv(Census_State_Population)\n",
    "#---------------\n",
    "#COV_Tracking_MN_History_data='../Output_Data/COV_Tracking_MN_History_data.csv'\n",
    "#COV_Tracking_MN_History_data = \"%s_%s.%s\" % (\"Output_Data/COV_Tracking_MN_History_data\", _getToday() ,\"csv\")\n",
    "#COV_Tracking_MN_History_data_df=pd.read_csv(COV_Tracking_MN_History_data)\n",
    "#\n",
    "COV_Tracking_MN_History_data='Output_Data/COV_Tracking_MN_History_data_20200422.csv'\n",
    "COV_Tracking_MN_History_data_df=pd.read_csv(COV_Tracking_MN_History_data)\n",
    "#---------------\n",
    "#COV_Tracking_MN_Summary_data='../Output_Data/COV_Tracking_MN_Summary_data.csv'\n",
    "#COV_Tracking_MN_Summary_data = \"%s_%s.%s\" % (\"Output_Data/COV_Tracking_MN_Summary_data\", _getToday() ,\"csv\")\n",
    "#COV_Tracking_MN_Summary_data_df=pd.read_csv(COV_Tracking_MN_Summary_data)\n",
    "#\n",
    "COV_Tracking_MN_Summary_data='Output_Data/COV_Tracking_MN_Summary_data_20200422.csv'\n",
    "COV_Tracking_MN_Summary_data_df=pd.read_csv(COV_Tracking_MN_Summary_data)\n",
    "#---------------\n",
    "#COV_Tracking_US_History_data='../Output_Data/COV_Tracking_US_History_data.csv'\n",
    "#COV_Tracking_US_History_data = \"%s_%s.%s\" % (\"Output_Data/COV_Tracking_US_History_data\", _getToday() ,\"csv\")\n",
    "#COV_Tracking_US_History_data_df=pd.read_csv(COV_Tracking_US_History_data)\n",
    "#\n",
    "COV_Tracking_US_History_data='Output_Data/COV_Tracking_US_History_data_20200422.csv'\n",
    "COV_Tracking_US_History_data_df=pd.read_csv(COV_Tracking_US_History_data)\n",
    "#---------------\n",
    "#COV_Tracking_US_Summary_data='Output_Data/COV_Tracking_US_Summary_data.csv'\n",
    "#COV_Tracking_US_Summary_data = \"%s_%s.%s\" % (\"Output_Data/COV_Tracking_US_Summary_data\", _getToday() ,\"csv\")\n",
    "#COV_Tracking_US_Summary_data_df=pd.read_csv(COV_Tracking_US_Summary_data)\n",
    "#\n",
    "COV_Tracking_US_Summary_data='Output_Data/COV_Tracking_US_Summary_data_20200422.csv'\n",
    "COV_Tracking_US_Summary_data_df=pd.read_csv(COV_Tracking_US_Summary_data)\n",
    "#---------------\n",
    "#revised_jhu_data='../Output_Data/JHU_data.csv'\n",
    "#revised_jhu_data = \"%s_%s.%s\" % (\"Output_Data/revised_jhu_data\", _getToday() ,\"csv\")\n",
    "#revised_jhu_data_df=pd.read_csv(revised_jhu_data)\n",
    "#\n",
    "JHU_data='Output_Data/JHU_data_20200422.csv'\n",
    "JHU_data_df=pd.read_csv(JHU_data)\n",
    "#---------------"
   ]
  },
  {
   "cell_type": "markdown",
   "metadata": {},
   "source": [
    "## Display DataFrames & Prepare DataFrames for Charting "
   ]
  },
  {
   "cell_type": "code",
   "execution_count": null,
   "metadata": {},
   "outputs": [],
   "source": [
    "## CENSUS STATE POPULATION DATAFRAME\n",
    "\n",
    "Census_State_Population_df=Census_State_Population_df.rename(columns={'Population':'State Population','Abbreviation':'State Abbreviation'})\n",
    "Census_State_Population_df=Census_State_Population_df[['State','State Abbreviation','State Population']]\n",
    "\n",
    "# Display dataframe - first five records...\n",
    "Census_State_Population_df.head()"
   ]
  },
  {
   "cell_type": "code",
   "execution_count": null,
   "metadata": {},
   "outputs": [],
   "source": [
    "## CENSUS COUNTY POPULATION DATAFRAME\n",
    "\n",
    "Census_County_Population_df=Census_County_Population_df.rename(columns={'Population':'County Population','Abbreviation':'State Abbreviation'})\n",
    "Census_County_Population_df=Census_County_Population_df[['State','State Abbreviation','County','County Population']]\n",
    "# Display dataframe - first five records...\n",
    "Census_County_Population_df.head()"
   ]
  },
  {
   "cell_type": "code",
   "execution_count": null,
   "metadata": {
    "scrolled": true
   },
   "outputs": [],
   "source": [
    "## COV TRACKING MN HISTORY DATAFRAME\n",
    "\n",
    "COV_Tracking_MN_History_data_df.columns"
   ]
  },
  {
   "cell_type": "code",
   "execution_count": null,
   "metadata": {},
   "outputs": [],
   "source": [
    "# Rename column headers\n",
    "COV_Tracking_MN_History_data_df=COV_Tracking_MN_History_data_df.rename(columns={'State':'State Abbreviation','Date':'File Date','States':'State ID'})\n",
    "# Merge dataframes\n",
    "COV_Tracking_MN_History_data_df=pd.merge(COV_Tracking_MN_History_data_df,Census_State_Population_df, on='State Abbreviation',how='left')\n",
    "# Reorganize the column headers\n",
    "COV_Tracking_MN_History_data_df=COV_Tracking_MN_History_data_df[['File Date','State','State Abbreviation','State Population','Positive','Negative','Total_Test_Results','Hospitalized','Recovered','Death','Date_Checked']]\n",
    "# Display dataframe - first five records...\n",
    "COV_Tracking_MN_History_data_df.head()"
   ]
  },
  {
   "cell_type": "code",
   "execution_count": null,
   "metadata": {},
   "outputs": [],
   "source": [
    "## COV TRACKING US HISTORY DATAFRAME\n",
    "\n",
    "COV_Tracking_US_History_data_df.columns"
   ]
  },
  {
   "cell_type": "code",
   "execution_count": null,
   "metadata": {},
   "outputs": [],
   "source": [
    "# Rename column headers\n",
    "COV_Tracking_US_History_data_df=COV_Tracking_US_History_data_df.rename(columns={'Date':'File Date','States':'State ID'})\n",
    "# Merge dataframes\n",
    "COV_Tracking_US_History_data_df=pd.merge(COV_Tracking_US_History_data_df,Census_State_Population_df, left_on='State ID',right_index=True)\n",
    "# Reorganize column headers\n",
    "COV_Tracking_US_History_data_df=COV_Tracking_US_History_data_df[['File Date','State','State Abbreviation','State Population','Positive','Negative','Total_Test_Results','Hospitalized','Recovered','Death','Date_Checked','State ID']]\n",
    "# Display dataframe - first five records...\n",
    "COV_Tracking_US_History_data_df.head()"
   ]
  },
  {
   "cell_type": "code",
   "execution_count": null,
   "metadata": {},
   "outputs": [],
   "source": [
    "## COV TRACKING MN SUMMARY DATAFRAME\n",
    "\n",
    "# Rename column headers\n",
    "COV_Tracking_MN_Summary_data_df=COV_Tracking_MN_Summary_data_df.rename(columns={'State':'State Abbreviation'})\n",
    "# Merge dataframes\n",
    "COV_Tracking_MN_Summary_data_df=pd.merge(COV_Tracking_MN_Summary_data_df,Census_State_Population_df, on='State Abbreviation', how='left')\n",
    "# Reorganize column headers\n",
    "COV_Tracking_MN_Summary_data_df=COV_Tracking_MN_Summary_data_df[['State','State Abbreviation','State Population','Positive','Negative','Total_Test_Results','Hospitalized','Recovered','Death','Date_Checked']]\n",
    "# Display dataframe - first five records...\n",
    "COV_Tracking_MN_Summary_data_df.head()"
   ]
  },
  {
   "cell_type": "code",
   "execution_count": null,
   "metadata": {},
   "outputs": [],
   "source": [
    "## COV TRACKING US SUMMARY DATAFRAME\n",
    "\n",
    "# Rename column headers\n",
    "COV_Tracking_US_Summary_data_df=COV_Tracking_US_Summary_data_df.rename(columns={'State':'State Abbreviation'})\n",
    "# Merge dataframes\n",
    "COV_Tracking_US_Summary_data_df=pd.merge(COV_Tracking_US_Summary_data_df,Census_State_Population_df, on='State Abbreviation', how='left')\n",
    "# Reorganize column headers\n",
    "COV_Tracking_US_Summary_data_df=COV_Tracking_US_Summary_data_df[['State','State Abbreviation','State Population','Positive','Negative','Total_Test_Results','Hospitalized','Recovered','Death','Date_Checked']]\n",
    "# Display dataframe - first five records...\n",
    "COV_Tracking_US_Summary_data_df.head()"
   ]
  },
  {
   "cell_type": "code",
   "execution_count": null,
   "metadata": {
    "scrolled": true
   },
   "outputs": [],
   "source": [
    "## JHU DATAFRAME\n",
    "\n",
    "# Rename column headers\n",
    "JHU_data_df=JHU_data_df.rename(columns={'Admin2':'County','Abbreviation':'State Abbreviation','Combined_Key':'CityStateRegion'})\n",
    "JHU_data_df=JHU_data_df[['State','State Abbreviation','County','Confirmed','Recovered','Active','Deaths','Last_Update','FIPS','Lat','Long_','CityStateRegion','Country_Region']]\n",
    "\n",
    "# Display dataframe - first five records...\n",
    "JHU_data_df.head()"
   ]
  },
  {
   "cell_type": "markdown",
   "metadata": {},
   "source": [
    "## Write DataFrames Prepared for Charting to CSV Files"
   ]
  },
  {
   "cell_type": "code",
   "execution_count": null,
   "metadata": {},
   "outputs": [],
   "source": [
    "## Save Files to Output Folder called Output_Chart_DataFrames...\n",
    "# Safety measure...\n",
    "\n",
    "Census_State_Population_df.to_csv('Output_Chart_DataFrames/Chart_Census_state_Population_df.csv', encoding='utf-8', index=False)\n",
    "Census_County_Population_df.to_csv('Output_Chart_DataFrames/Chart_Census_County_Population_df.csv', encoding='utf-8', index=False)\n",
    "COV_Tracking_MN_History_data_df.to_csv('Output_Chart_DataFrames/Chart_COV_Tracking_MN_History_data_df.csv', encoding='utf-8', index=False)\n",
    "COV_Tracking_US_History_data_df.to_csv('Output_Chart_DataFrames/Chart_COV_Tracking_US_History_data_df.csv', encoding='utf-8', index=False)\n",
    "COV_Tracking_MN_Summary_data_df.to_csv('Output_Chart_DataFrames/Chart_COV_Tracking_MN_Summary_data_df.csv', encoding='utf-8', index=False)\n",
    "COV_Tracking_US_Summary_data_df.to_csv('Output_Chart_DataFrames/Chart_COV_Tracking_US_Summary_data_df.csv', encoding='utf-8', index=False)\n",
    "JHU_data_df.to_csv('Output_Chart_DataFrames/Chart_JHU_data_df.csv', encoding='utf-8', index=False)"
   ]
  },
  {
   "cell_type": "markdown",
   "metadata": {},
   "source": [
    "## Charting"
   ]
  },
  {
   "cell_type": "code",
   "execution_count": null,
   "metadata": {},
   "outputs": [],
   "source": [
    "# Fix state ID with merge...\n"
   ]
  },
  {
   "cell_type": "code",
   "execution_count": null,
   "metadata": {},
   "outputs": [],
   "source": [
    "COV_Tracking_US_Summary_data_df.head()"
   ]
  },
  {
   "cell_type": "code",
   "execution_count": null,
   "metadata": {},
   "outputs": [],
   "source": [
    "#Calculate the Means...\n",
    "states_population_mean=COV_Tracking_US_Summary_data_df['State Population'].mean()\n",
    "states_positive_mean=COV_Tracking_US_Summary_data_df['Positive'].mean()\n",
    "states_negative_mean=COV_Tracking_US_Summary_data_df['Negative'].mean()\n",
    "states_total_test_results_mean=COV_Tracking_US_Summary_data_df['Total_Test_Results'].mean()\n",
    "states_hospitalized_mean=COV_Tracking_US_Summary_data_df['Hospitalized'].mean()\n",
    "states_recovered_mean=COV_Tracking_US_Summary_data_df['Recovered'].mean()\n",
    "states_death_mean=COV_Tracking_US_Summary_data_df['Death'].mean()\n",
    "\n",
    "# Display the Means...\n",
    "print(\"States Population Mean .......... =\",states_population_mean)\n",
    "print(\"States Positive Mean ............ =\",states_positive_mean)\n",
    "print(\"States Negative Mean ............ =\",states_negative_mean)\n",
    "print(\"States Total Test Results Mean .. =\",states_total_test_results_mean)\n",
    "print(\"States Hospitalized Mean ........ =\",states_hospitalized_mean)\n",
    "print(\"States Recovered Mean ........... =\",states_recovered_mean)\n",
    "print(\"States Death Mean ............... =\",states_death_mean)"
   ]
  },
  {
   "cell_type": "code",
   "execution_count": null,
   "metadata": {},
   "outputs": [],
   "source": [
    "## \n",
    "\n",
    "# Plot the summary values for a the state of Minnesota\n",
    "cov_tracking_us_mn_summary_chart, = plt.plot(\"State\", cov_tracking_us_summary_data_df.loc['Minnesota',[\"Positive\",\"Negative\",\"Total_Test_Results\",\"Hospitalized\",\"Recovered\",\"Death\"]],color=\"green\",label=cov_tracking_us_mn_summary_chart_df.loc['Minnesota',\"State\"])\n",
    "\n",
    "\n",
    "\n",
    "plt.show()"
   ]
  },
  {
   "cell_type": "code",
   "execution_count": null,
   "metadata": {},
   "outputs": [],
   "source": []
  },
  {
   "cell_type": "code",
   "execution_count": null,
   "metadata": {},
   "outputs": [],
   "source": []
  }
 ],
 "metadata": {
  "kernelspec": {
   "display_name": "Python 3",
   "language": "python",
   "name": "python3"
  },
  "language_info": {
   "codemirror_mode": {
    "name": "ipython",
    "version": 3
   },
   "file_extension": ".py",
   "mimetype": "text/x-python",
   "name": "python",
   "nbconvert_exporter": "python",
   "pygments_lexer": "ipython3",
   "version": "3.6.10"
  }
 },
 "nbformat": 4,
 "nbformat_minor": 4
}
